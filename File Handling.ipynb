{
 "cells": [
  {
   "cell_type": "markdown",
   "id": "c91e89aa",
   "metadata": {},
   "source": [
    "# File Handling\n",
    "- we have seen how to read/write to a text file previously\n",
    "- we have used context managers to perform file operations\n",
    "- now lets see how to handle some other files in python"
   ]
  },
  {
   "cell_type": "markdown",
   "id": "bd3ddfe6",
   "metadata": {},
   "source": [
    "# JSON\n",
    "-  <b>J</b>ava<b>S</b>cript <b>O</b>bject <b>N</b>otation is a format for structuring data used by web applications to communicate with each other\n",
    "- Characteristics of JSON\n",
    "    - Human-readable and writable\n",
    "    - light weight text based data interchange format\n",
    "    - Language independent"
   ]
  },
  {
   "cell_type": "markdown",
   "id": "e3362179",
   "metadata": {},
   "source": [
    "## Task-1: Let's create a json file"
   ]
  },
  {
   "cell_type": "markdown",
   "id": "f994a907",
   "metadata": {},
   "source": [
    "## Task-2: Import json package"
   ]
  },
  {
   "cell_type": "code",
   "execution_count": 1,
   "id": "f67ae326",
   "metadata": {},
   "outputs": [],
   "source": [
    "import json"
   ]
  },
  {
   "cell_type": "markdown",
   "id": "8a29cd22",
   "metadata": {},
   "source": [
    "## Task-3: Reading a json file to dictonary"
   ]
  },
  {
   "cell_type": "code",
   "execution_count": 6,
   "id": "57a75f9d",
   "metadata": {},
   "outputs": [],
   "source": [
    "with open('payload.json', 'r') as json_file:\n",
    "    json_object = json.load(json_file)"
   ]
  },
  {
   "cell_type": "code",
   "execution_count": 7,
   "id": "fa9a7830",
   "metadata": {},
   "outputs": [
    {
     "data": {
      "text/plain": [
       "{'Name': 'Sudheer',\n",
       " 'Age': '22',\n",
       " 'Company': 'JP Morgan Chase & Co',\n",
       " 'skills': [{'name': 'python', 'experience': '3 years'},\n",
       "  {'name': 'Machine learning', 'experience': '2 years'}]}"
      ]
     },
     "execution_count": 7,
     "metadata": {},
     "output_type": "execute_result"
    }
   ],
   "source": [
    "json_object"
   ]
  },
  {
   "cell_type": "code",
   "execution_count": 9,
   "id": "df581e6a",
   "metadata": {},
   "outputs": [
    {
     "name": "stdout",
     "output_type": "stream",
     "text": [
      "<class 'dict'>\n"
     ]
    }
   ],
   "source": [
    "print(type(json_object))"
   ]
  },
  {
   "cell_type": "code",
   "execution_count": 10,
   "id": "1ff6d61b",
   "metadata": {},
   "outputs": [
    {
     "data": {
      "text/plain": [
       "'Sudheer'"
      ]
     },
     "execution_count": 10,
     "metadata": {},
     "output_type": "execute_result"
    }
   ],
   "source": [
    "json_object['Name']"
   ]
  },
  {
   "cell_type": "markdown",
   "id": "197054f5",
   "metadata": {},
   "source": [
    "## Task-4 Writing a dictionary to json"
   ]
  },
  {
   "cell_type": "code",
   "execution_count": 11,
   "id": "9753d256",
   "metadata": {},
   "outputs": [],
   "source": [
    "biodata = {\n",
    "    \"Name\": \"Sudheer\",\n",
    "    \"Age\": 22,\n",
    "    \"Location\": \"Hyderabad, India\"\n",
    "}"
   ]
  },
  {
   "cell_type": "code",
   "execution_count": 13,
   "id": "61a29baa",
   "metadata": {},
   "outputs": [],
   "source": [
    "with open('biodata.json', 'w') as json_file:\n",
    "    json.dump(biodata, json_file)"
   ]
  },
  {
   "cell_type": "markdown",
   "id": "48393159",
   "metadata": {},
   "source": [
    "## Task-5 string to dict, dict to str - possible if api is returning json as string"
   ]
  },
  {
   "cell_type": "code",
   "execution_count": 19,
   "id": "31ac5c68",
   "metadata": {},
   "outputs": [],
   "source": [
    "str_dict = '{\"sid\":\"f685036\", \"name\": \"Sudheer\", \"department\":\"A&R\"}'\n",
    "dict_obj = json.loads(str_dict)"
   ]
  },
  {
   "cell_type": "code",
   "execution_count": 20,
   "id": "d6924b89",
   "metadata": {},
   "outputs": [
    {
     "data": {
      "text/plain": [
       "{'sid': 'f685036', 'name': 'Sudheer', 'department': 'A&R'}"
      ]
     },
     "execution_count": 20,
     "metadata": {},
     "output_type": "execute_result"
    }
   ],
   "source": [
    "dict_obj"
   ]
  },
  {
   "cell_type": "code",
   "execution_count": 21,
   "id": "3d646e71",
   "metadata": {},
   "outputs": [
    {
     "name": "stdout",
     "output_type": "stream",
     "text": [
      "<class 'dict'>\n"
     ]
    }
   ],
   "source": [
    "print(type(dict_obj))"
   ]
  },
  {
   "cell_type": "code",
   "execution_count": 22,
   "id": "1714ba85",
   "metadata": {},
   "outputs": [],
   "source": [
    "str_obj = json.dumps(dict_obj)"
   ]
  },
  {
   "cell_type": "code",
   "execution_count": 23,
   "id": "271f6c5c",
   "metadata": {},
   "outputs": [
    {
     "data": {
      "text/plain": [
       "'{\"sid\": \"f685036\", \"name\": \"Sudheer\", \"department\": \"A&R\"}'"
      ]
     },
     "execution_count": 23,
     "metadata": {},
     "output_type": "execute_result"
    }
   ],
   "source": [
    "str_obj"
   ]
  },
  {
   "cell_type": "code",
   "execution_count": 24,
   "id": "c77ea67c",
   "metadata": {},
   "outputs": [
    {
     "name": "stdout",
     "output_type": "stream",
     "text": [
      "<class 'str'>\n"
     ]
    }
   ],
   "source": [
    "print(type(str_obj))"
   ]
  },
  {
   "cell_type": "markdown",
   "id": "bd5e441c",
   "metadata": {},
   "source": [
    "# XML"
   ]
  },
  {
   "cell_type": "code",
   "execution_count": null,
   "id": "03d79f5a",
   "metadata": {},
   "outputs": [],
   "source": []
  },
  {
   "cell_type": "markdown",
   "id": "a4936cee",
   "metadata": {},
   "source": [
    "# CSV"
   ]
  },
  {
   "cell_type": "markdown",
   "id": "3608a8c2",
   "metadata": {},
   "source": [
    "## Importing csv package"
   ]
  },
  {
   "cell_type": "code",
   "execution_count": 27,
   "id": "f8ec1591",
   "metadata": {},
   "outputs": [],
   "source": [
    "import csv"
   ]
  },
  {
   "cell_type": "markdown",
   "id": "a8ab20b5",
   "metadata": {},
   "source": [
    "## Read csv"
   ]
  },
  {
   "cell_type": "code",
   "execution_count": 35,
   "id": "7c54ecc5",
   "metadata": {},
   "outputs": [
    {
     "name": "stdout",
     "output_type": "stream",
     "text": [
      "['Name', ' Age', ' Company', ' SID']\n",
      "['Sudheer', ' 22', ' JPMC', ' F685036']\n"
     ]
    }
   ],
   "source": [
    "with open('example.csv', 'r') as csv_file:\n",
    "    csv_reader = csv.reader(csv_file)\n",
    "    for row in csv_reader:\n",
    "        print(row)"
   ]
  },
  {
   "cell_type": "code",
   "execution_count": 36,
   "id": "42cd6b18",
   "metadata": {},
   "outputs": [],
   "source": [
    "column_names = ['Name', ' Age', ' Company', ' SID']\n",
    "rows = [['Sudheer', ' 22', ' JPMC', ' F685036'],['Someone', ' 25', ' JPMC', ' F685037']]"
   ]
  },
  {
   "cell_type": "code",
   "execution_count": 39,
   "id": "8ae32f50",
   "metadata": {},
   "outputs": [],
   "source": [
    "with open('sample.csv', 'w') as csv_file:\n",
    "    csv_writer = csv.writer(csv_file)\n",
    "    csv_writer.writerow(column_names)\n",
    "    csv_writer.writerows(rows)"
   ]
  },
  {
   "cell_type": "markdown",
   "id": "9dd935b4",
   "metadata": {},
   "source": [
    "# Use Openpyxl for excel opertaions\n",
    "- everything that can be done by human in excel can be performed by this excel engine"
   ]
  },
  {
   "cell_type": "markdown",
   "id": "576b5685",
   "metadata": {},
   "source": [
    "# Simpler ways to reading csv and excel files\n",
    "# Pandas"
   ]
  },
  {
   "cell_type": "code",
   "execution_count": 41,
   "id": "a5246032",
   "metadata": {},
   "outputs": [],
   "source": [
    "import pandas as pd"
   ]
  },
  {
   "cell_type": "code",
   "execution_count": 42,
   "id": "9c54ab71",
   "metadata": {},
   "outputs": [],
   "source": [
    "dataframe = pd.read_csv('sample.csv')"
   ]
  },
  {
   "cell_type": "code",
   "execution_count": 43,
   "id": "7959004e",
   "metadata": {},
   "outputs": [
    {
     "data": {
      "text/html": [
       "<div>\n",
       "<style scoped>\n",
       "    .dataframe tbody tr th:only-of-type {\n",
       "        vertical-align: middle;\n",
       "    }\n",
       "\n",
       "    .dataframe tbody tr th {\n",
       "        vertical-align: top;\n",
       "    }\n",
       "\n",
       "    .dataframe thead th {\n",
       "        text-align: right;\n",
       "    }\n",
       "</style>\n",
       "<table border=\"1\" class=\"dataframe\">\n",
       "  <thead>\n",
       "    <tr style=\"text-align: right;\">\n",
       "      <th></th>\n",
       "      <th>Name</th>\n",
       "      <th>Age</th>\n",
       "      <th>Company</th>\n",
       "      <th>SID</th>\n",
       "    </tr>\n",
       "  </thead>\n",
       "  <tbody>\n",
       "    <tr>\n",
       "      <th>0</th>\n",
       "      <td>Sudheer</td>\n",
       "      <td>22</td>\n",
       "      <td>JPMC</td>\n",
       "      <td>F685036</td>\n",
       "    </tr>\n",
       "    <tr>\n",
       "      <th>1</th>\n",
       "      <td>Someone</td>\n",
       "      <td>25</td>\n",
       "      <td>JPMC</td>\n",
       "      <td>F685037</td>\n",
       "    </tr>\n",
       "  </tbody>\n",
       "</table>\n",
       "</div>"
      ],
      "text/plain": [
       "      Name   Age  Company       SID\n",
       "0  Sudheer    22     JPMC   F685036\n",
       "1  Someone    25     JPMC   F685037"
      ]
     },
     "execution_count": 43,
     "metadata": {},
     "output_type": "execute_result"
    }
   ],
   "source": [
    "dataframe.head()"
   ]
  },
  {
   "cell_type": "code",
   "execution_count": 45,
   "id": "6aff51ee",
   "metadata": {},
   "outputs": [
    {
     "data": {
      "text/plain": [
       "Index(['Name', ' Age', ' Company', ' SID'], dtype='object')"
      ]
     },
     "execution_count": 45,
     "metadata": {},
     "output_type": "execute_result"
    }
   ],
   "source": [
    "dataframe.columns"
   ]
  },
  {
   "cell_type": "code",
   "execution_count": 46,
   "id": "28adc244",
   "metadata": {},
   "outputs": [
    {
     "data": {
      "text/plain": [
       "0    Sudheer\n",
       "1    Someone\n",
       "Name: Name, dtype: object"
      ]
     },
     "execution_count": 46,
     "metadata": {},
     "output_type": "execute_result"
    }
   ],
   "source": [
    "dataframe.Name"
   ]
  },
  {
   "cell_type": "code",
   "execution_count": 48,
   "id": "141a9f69",
   "metadata": {},
   "outputs": [
    {
     "data": {
      "text/plain": [
       "'Sudheer'"
      ]
     },
     "execution_count": 48,
     "metadata": {},
     "output_type": "execute_result"
    }
   ],
   "source": [
    "dataframe.iloc[0,0]"
   ]
  },
  {
   "cell_type": "code",
   "execution_count": 49,
   "id": "ee8d1254",
   "metadata": {},
   "outputs": [
    {
     "data": {
      "text/html": [
       "<div>\n",
       "<style scoped>\n",
       "    .dataframe tbody tr th:only-of-type {\n",
       "        vertical-align: middle;\n",
       "    }\n",
       "\n",
       "    .dataframe tbody tr th {\n",
       "        vertical-align: top;\n",
       "    }\n",
       "\n",
       "    .dataframe thead th {\n",
       "        text-align: right;\n",
       "    }\n",
       "</style>\n",
       "<table border=\"1\" class=\"dataframe\">\n",
       "  <thead>\n",
       "    <tr style=\"text-align: right;\">\n",
       "      <th></th>\n",
       "      <th>Name</th>\n",
       "      <th>Age</th>\n",
       "    </tr>\n",
       "  </thead>\n",
       "  <tbody>\n",
       "    <tr>\n",
       "      <th>0</th>\n",
       "      <td>Sudheer</td>\n",
       "      <td>22</td>\n",
       "    </tr>\n",
       "  </tbody>\n",
       "</table>\n",
       "</div>"
      ],
      "text/plain": [
       "      Name   Age\n",
       "0  Sudheer    22"
      ]
     },
     "execution_count": 49,
     "metadata": {},
     "output_type": "execute_result"
    }
   ],
   "source": [
    "dataframe.iloc[:1,:2]"
   ]
  },
  {
   "cell_type": "code",
   "execution_count": 50,
   "id": "6b013fe5",
   "metadata": {},
   "outputs": [
    {
     "name": "stdout",
     "output_type": "stream",
     "text": [
      "['BooleanDtype', 'Categorical', 'CategoricalDtype', 'CategoricalIndex', 'DataFrame', 'DateOffset', 'DatetimeIndex', 'DatetimeTZDtype', 'ExcelFile', 'ExcelWriter', 'Flags', 'Float32Dtype', 'Float64Dtype', 'Float64Index', 'Grouper', 'HDFStore', 'Index', 'IndexSlice', 'Int16Dtype', 'Int32Dtype', 'Int64Dtype', 'Int64Index', 'Int8Dtype', 'Interval', 'IntervalDtype', 'IntervalIndex', 'MultiIndex', 'NA', 'NaT', 'NamedAgg', 'Period', 'PeriodDtype', 'PeriodIndex', 'RangeIndex', 'Series', 'SparseDtype', 'StringDtype', 'Timedelta', 'TimedeltaIndex', 'Timestamp', 'UInt16Dtype', 'UInt32Dtype', 'UInt64Dtype', 'UInt64Index', 'UInt8Dtype', '__builtins__', '__cached__', '__doc__', '__docformat__', '__file__', '__getattr__', '__git_version__', '__loader__', '__name__', '__package__', '__path__', '__spec__', '__version__', '_hashtable', '_is_numpy_dev', '_lib', '_np_version_under1p17', '_np_version_under1p18', '_testing', '_tslib', '_version', 'api', 'array', 'arrays', 'bdate_range', 'concat', 'core', 'crosstab', 'cut', 'date_range', 'describe_option', 'errors', 'eval', 'factorize', 'get_dummies', 'get_option', 'infer_freq', 'interval_range', 'io', 'isna', 'isnull', 'json_normalize', 'lreshape', 'melt', 'merge', 'merge_asof', 'merge_ordered', 'notna', 'notnull', 'offsets', 'option_context', 'options', 'pandas', 'period_range', 'pivot', 'pivot_table', 'plotting', 'qcut', 'read_clipboard', 'read_csv', 'read_excel', 'read_feather', 'read_fwf', 'read_gbq', 'read_hdf', 'read_html', 'read_json', 'read_orc', 'read_parquet', 'read_pickle', 'read_sas', 'read_spss', 'read_sql', 'read_sql_query', 'read_sql_table', 'read_stata', 'read_table', 'reset_option', 'set_eng_float_format', 'set_option', 'show_versions', 'test', 'testing', 'timedelta_range', 'to_datetime', 'to_numeric', 'to_pickle', 'to_timedelta', 'tseries', 'unique', 'util', 'value_counts', 'wide_to_long']\n"
     ]
    }
   ],
   "source": [
    "print(dir(pd))"
   ]
  },
  {
   "cell_type": "markdown",
   "id": "b6b6c69a",
   "metadata": {},
   "source": [
    "# Lot of things can be performed with pandas\n",
    "- Group by, merge, concat, plotting, pivot, reading databases and lot more\n",
    "- best used for data analysis"
   ]
  },
  {
   "cell_type": "code",
   "execution_count": null,
   "id": "ac16de40",
   "metadata": {},
   "outputs": [],
   "source": []
  }
 ],
 "metadata": {
  "kernelspec": {
   "display_name": "Python 3",
   "language": "python",
   "name": "python3"
  },
  "language_info": {
   "codemirror_mode": {
    "name": "ipython",
    "version": 3
   },
   "file_extension": ".py",
   "mimetype": "text/x-python",
   "name": "python",
   "nbconvert_exporter": "python",
   "pygments_lexer": "ipython3",
   "version": "3.8.8"
  }
 },
 "nbformat": 4,
 "nbformat_minor": 5
}
