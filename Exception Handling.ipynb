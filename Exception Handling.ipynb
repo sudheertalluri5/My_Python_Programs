{
 "cells": [
  {
   "cell_type": "markdown",
   "id": "65e7a328",
   "metadata": {},
   "source": [
    "# Exception Hanlding"
   ]
  },
  {
   "cell_type": "markdown",
   "id": "fa2cbc13",
   "metadata": {},
   "source": [
    "Errors in python is of two types \n",
    " - Syntax Errors\n",
    " - Exceptions\n",
    " \n",
    "When These occur, execution of program will be stopped"
   ]
  },
  {
   "cell_type": "markdown",
   "id": "ff3ac8a2",
   "metadata": {},
   "source": [
    "### Syntax Errors\n",
    "- When you run the python code, the interpretor will first parse it to convert into python byte code, which it will execute in next step\n",
    "- The interpreter will find any syntax errors in first stage of program execution(also called parsing stage)\n",
    "- So, we don't have to handle them, actual execution is done only if the python code is syntactically correct"
   ]
  },
  {
   "cell_type": "markdown",
   "id": "eb4527e4",
   "metadata": {},
   "source": [
    "### Exceptions\n",
    "- Now comes exceptions, Exceptions are raised when the program is syntactically correct, but the code resulted in an error\n",
    "- These can't be found before the actual execution\n",
    "- There can be various reasons why an exception is raised\n",
    "- Sometimes, there will be cases where we will raise exceptions from our code"
   ]
  },
  {
   "cell_type": "markdown",
   "id": "ea1957c7",
   "metadata": {},
   "source": [
    "### Exception Handling\n",
    "- Handling such unknown but possible scenarios of errors will make our code robust\n",
    "- We call that Exception Handling"
   ]
  },
  {
   "cell_type": "code",
   "execution_count": 3,
   "id": "bc9d71a6",
   "metadata": {},
   "outputs": [
    {
     "name": "stdout",
     "output_type": "stream",
     "text": [
      "Total marks: 0\n",
      "Obtained Marks: 0\n"
     ]
    },
    {
     "ename": "ZeroDivisionError",
     "evalue": "division by zero",
     "output_type": "error",
     "traceback": [
      "\u001b[1;31m---------------------------------------------------------------------------\u001b[0m",
      "\u001b[1;31mZeroDivisionError\u001b[0m                         Traceback (most recent call last)",
      "\u001b[1;32m<ipython-input-3-7ef2a0408091>\u001b[0m in \u001b[0;36m<module>\u001b[1;34m\u001b[0m\n\u001b[0;32m      2\u001b[0m \u001b[0mtotal_marks\u001b[0m\u001b[1;33m=\u001b[0m\u001b[0mint\u001b[0m\u001b[1;33m(\u001b[0m\u001b[0minput\u001b[0m\u001b[1;33m(\u001b[0m\u001b[1;34m\"Total marks: \"\u001b[0m\u001b[1;33m)\u001b[0m\u001b[1;33m)\u001b[0m\u001b[1;33m\u001b[0m\u001b[1;33m\u001b[0m\u001b[0m\n\u001b[0;32m      3\u001b[0m \u001b[0mmarks_obtained\u001b[0m \u001b[1;33m=\u001b[0m \u001b[0mint\u001b[0m\u001b[1;33m(\u001b[0m\u001b[0minput\u001b[0m\u001b[1;33m(\u001b[0m\u001b[1;34m\"Obtained Marks: \"\u001b[0m\u001b[1;33m)\u001b[0m\u001b[1;33m)\u001b[0m\u001b[1;33m\u001b[0m\u001b[1;33m\u001b[0m\u001b[0m\n\u001b[1;32m----> 4\u001b[1;33m \u001b[0mpercentage\u001b[0m \u001b[1;33m=\u001b[0m \u001b[0mmarks_obtained\u001b[0m\u001b[1;33m/\u001b[0m\u001b[0mtotal_marks\u001b[0m\u001b[1;33m\u001b[0m\u001b[1;33m\u001b[0m\u001b[0m\n\u001b[0m\u001b[0;32m      5\u001b[0m \u001b[0mprint\u001b[0m\u001b[1;33m(\u001b[0m\u001b[0mpercentage\u001b[0m\u001b[1;33m)\u001b[0m\u001b[1;33m\u001b[0m\u001b[1;33m\u001b[0m\u001b[0m\n",
      "\u001b[1;31mZeroDivisionError\u001b[0m: division by zero"
     ]
    }
   ],
   "source": [
    "# Simplest case - division by zero\n",
    "total_marks=int(input(\"Total marks: \"))\n",
    "marks_obtained = int(input(\"Obtained Marks: \"))\n",
    "percentage = marks_obtained/total_marks\n",
    "print(percentage)"
   ]
  },
  {
   "cell_type": "markdown",
   "id": "ee804710",
   "metadata": {},
   "source": [
    "# Here comes the syntax to handle exceptions\n"
   ]
  },
  {
   "cell_type": "raw",
   "id": "ea5dbb9f",
   "metadata": {},
   "source": [
    "try:\n",
    "    Some Statements - error prone\n",
    "except:\n",
    "    Handling the errors"
   ]
  },
  {
   "cell_type": "code",
   "execution_count": 6,
   "id": "d47a114e",
   "metadata": {},
   "outputs": [
    {
     "name": "stdout",
     "output_type": "stream",
     "text": [
      "Enter Index: 3\n"
     ]
    },
    {
     "ename": "IndexError",
     "evalue": "list index out of range",
     "output_type": "error",
     "traceback": [
      "\u001b[1;31m---------------------------------------------------------------------------\u001b[0m",
      "\u001b[1;31mIndexError\u001b[0m                                Traceback (most recent call last)",
      "\u001b[1;32m<ipython-input-6-f78ad14194dc>\u001b[0m in \u001b[0;36m<module>\u001b[1;34m\u001b[0m\n\u001b[0;32m      6\u001b[0m         \u001b[1;32mbreak\u001b[0m\u001b[1;33m\u001b[0m\u001b[1;33m\u001b[0m\u001b[0m\n\u001b[0;32m      7\u001b[0m     \u001b[0mindex\u001b[0m \u001b[1;33m=\u001b[0m \u001b[0mint\u001b[0m\u001b[1;33m(\u001b[0m\u001b[0mindex_str\u001b[0m\u001b[1;33m)\u001b[0m\u001b[1;33m\u001b[0m\u001b[1;33m\u001b[0m\u001b[0m\n\u001b[1;32m----> 8\u001b[1;33m     \u001b[0mprint\u001b[0m\u001b[1;33m(\u001b[0m\u001b[1;34m\"Value at index-{} is {}\"\u001b[0m\u001b[1;33m.\u001b[0m\u001b[0mformat\u001b[0m\u001b[1;33m(\u001b[0m\u001b[0mindex\u001b[0m\u001b[1;33m,\u001b[0m \u001b[0ma\u001b[0m\u001b[1;33m[\u001b[0m\u001b[0mindex\u001b[0m\u001b[1;33m]\u001b[0m\u001b[1;33m)\u001b[0m\u001b[1;33m)\u001b[0m\u001b[1;33m\u001b[0m\u001b[1;33m\u001b[0m\u001b[0m\n\u001b[0m",
      "\u001b[1;31mIndexError\u001b[0m: list index out of range"
     ]
    }
   ],
   "source": [
    "# Index Out of range exception - start with showing the index error first\n",
    "a= [1,2,3]\n",
    "while True:\n",
    "    index_str = input(\"Enter Index: \")\n",
    "    if index_str == 'exit':\n",
    "        break\n",
    "    index = int(index_str)\n",
    "    print(\"Value at index-{} is {}\".format(index, a[index]))"
   ]
  },
  {
   "cell_type": "code",
   "execution_count": 7,
   "id": "c703521a",
   "metadata": {},
   "outputs": [
    {
     "name": "stdout",
     "output_type": "stream",
     "text": [
      "Enter Index: 1\n",
      "Value at index-1 is 2\n",
      "Enter Index: 2\n",
      "Value at index-2 is 3\n",
      "Enter Index: 3\n",
      "Index out of range\n",
      "Enter Index: 5\n",
      "Index out of range\n",
      "Enter Index: 45\n",
      "Index out of range\n",
      "Enter Index: exit\n"
     ]
    }
   ],
   "source": [
    "a= [1,2,3]\n",
    "while True:\n",
    "    index_str = input(\"Enter Index: \")\n",
    "    if index_str == 'exit':\n",
    "        break\n",
    "    index = int(index_str)\n",
    "    try:\n",
    "        print(\"Value at index-{} is {}\".format(index, a[index]))\n",
    "    except:\n",
    "        print(\"Index out of range\")"
   ]
  },
  {
   "cell_type": "markdown",
   "id": "2d711f24",
   "metadata": {},
   "source": [
    "# Catching specific exceptions"
   ]
  },
  {
   "cell_type": "code",
   "execution_count": 8,
   "id": "44d4a243",
   "metadata": {},
   "outputs": [
    {
     "name": "stdout",
     "output_type": "stream",
     "text": [
      "Enter Index: andbi\n"
     ]
    },
    {
     "ename": "ValueError",
     "evalue": "invalid literal for int() with base 10: 'andbi'",
     "output_type": "error",
     "traceback": [
      "\u001b[1;31m---------------------------------------------------------------------------\u001b[0m",
      "\u001b[1;31mValueError\u001b[0m                                Traceback (most recent call last)",
      "\u001b[1;32m<ipython-input-8-07cb27089496>\u001b[0m in \u001b[0;36m<module>\u001b[1;34m\u001b[0m\n\u001b[0;32m      5\u001b[0m     \u001b[1;32mif\u001b[0m \u001b[0mindex_str\u001b[0m \u001b[1;33m==\u001b[0m \u001b[1;34m'exit'\u001b[0m\u001b[1;33m:\u001b[0m\u001b[1;33m\u001b[0m\u001b[1;33m\u001b[0m\u001b[0m\n\u001b[0;32m      6\u001b[0m         \u001b[1;32mbreak\u001b[0m\u001b[1;33m\u001b[0m\u001b[1;33m\u001b[0m\u001b[0m\n\u001b[1;32m----> 7\u001b[1;33m     \u001b[0mindex\u001b[0m \u001b[1;33m=\u001b[0m \u001b[0mint\u001b[0m\u001b[1;33m(\u001b[0m\u001b[0mindex_str\u001b[0m\u001b[1;33m)\u001b[0m\u001b[1;33m\u001b[0m\u001b[1;33m\u001b[0m\u001b[0m\n\u001b[0m\u001b[0;32m      8\u001b[0m     \u001b[1;32mtry\u001b[0m\u001b[1;33m:\u001b[0m\u001b[1;33m\u001b[0m\u001b[1;33m\u001b[0m\u001b[0m\n\u001b[0;32m      9\u001b[0m         \u001b[0mprint\u001b[0m\u001b[1;33m(\u001b[0m\u001b[1;34m\"Value at index-{} is {}\"\u001b[0m\u001b[1;33m.\u001b[0m\u001b[0mformat\u001b[0m\u001b[1;33m(\u001b[0m\u001b[0mindex\u001b[0m\u001b[1;33m,\u001b[0m \u001b[0ma\u001b[0m\u001b[1;33m[\u001b[0m\u001b[0mindex\u001b[0m\u001b[1;33m]\u001b[0m\u001b[1;33m)\u001b[0m\u001b[1;33m)\u001b[0m\u001b[1;33m\u001b[0m\u001b[1;33m\u001b[0m\u001b[0m\n",
      "\u001b[1;31mValueError\u001b[0m: invalid literal for int() with base 10: 'andbi'"
     ]
    }
   ],
   "source": [
    "# lets take the previous example where there is a posibility of other exception - ValueError\n",
    "a= [1,2,3]\n",
    "while True:\n",
    "    index_str = input(\"Enter Index: \")\n",
    "    if index_str == 'exit':\n",
    "        break\n",
    "    index = int(index_str)\n",
    "    try:\n",
    "        print(\"Value at index-{} is {}\".format(index, a[index]))\n",
    "    except:\n",
    "        print(\"Index out of range\")"
   ]
  },
  {
   "cell_type": "markdown",
   "id": "25718f34",
   "metadata": {},
   "source": [
    "# Two ways to handle this\n",
    "- Seperate handlers\n",
    "- Same handler with specific catchs"
   ]
  },
  {
   "cell_type": "code",
   "execution_count": 10,
   "id": "9b155c09",
   "metadata": {},
   "outputs": [
    {
     "name": "stdout",
     "output_type": "stream",
     "text": [
      "Enter Index: andc\n",
      "Invalid Index\n",
      "Enter Index: 8\n",
      "Index out of range\n",
      "Enter Index: 1\n",
      "Value at index-1 is 2\n",
      "Enter Index: exit\n"
     ]
    }
   ],
   "source": [
    "# Seperate Handlers\n",
    "a= [1,2,3]\n",
    "while True:\n",
    "    index_str = input(\"Enter Index: \")\n",
    "    if index_str == 'exit':\n",
    "        break\n",
    "    try:\n",
    "        index = int(index_str)\n",
    "    except:\n",
    "        print(\"Invalid Index\")\n",
    "        continue # show it later\n",
    "    try:\n",
    "        print(\"Value at index-{} is {}\".format(index, a[index]))\n",
    "    except:\n",
    "        print(\"Index out of range\")"
   ]
  },
  {
   "cell_type": "code",
   "execution_count": 11,
   "id": "a198750e",
   "metadata": {},
   "outputs": [
    {
     "name": "stdout",
     "output_type": "stream",
     "text": [
      "Enter Index: abc\n",
      "Invalid Index\n",
      "Enter Index: 9\n",
      "Index out of range\n",
      "Enter Index: 1\n",
      "Value at index-1 is 2\n",
      "Enter Index: exit\n"
     ]
    }
   ],
   "source": [
    "# Same Handler with specific catchs\n",
    "a= [1,2,3]\n",
    "while True:\n",
    "    index_str = input(\"Enter Index: \")\n",
    "    if index_str == 'exit':\n",
    "        break\n",
    "    try:\n",
    "        index = int(index_str)\n",
    "        print(\"Value at index-{} is {}\".format(index, a[index]))\n",
    "    except ValueError:\n",
    "        print(\"Invalid Index\")\n",
    "    except IndexError:\n",
    "        print(\"Index out of range\")"
   ]
  },
  {
   "cell_type": "markdown",
   "id": "0a8240b7",
   "metadata": {},
   "source": [
    "# When to use what?\n",
    "- If the error prone commands are neighbours then use same handler with specific catchs\n",
    "- If the error prone commands are far from each other in the code then use seperate handlers"
   ]
  },
  {
   "cell_type": "markdown",
   "id": "51067342",
   "metadata": {},
   "source": [
    "# Safer Way of dealing with specific catch statements"
   ]
  },
  {
   "cell_type": "code",
   "execution_count": 16,
   "id": "6eddfd79",
   "metadata": {},
   "outputs": [
    {
     "name": "stdout",
     "output_type": "stream",
     "text": [
      "Enter Index: abc\n",
      "Invalid Index\n",
      "Enter Index: 6\n",
      "Index out of range\n",
      "Enter Index: 2\n",
      "Value at index-2 is 3\n",
      "Unknown Error Occured\n",
      "Enter Index: 1\n",
      "Value at index-1 is 2\n",
      "-1.0\n",
      "Enter Index: exit\n"
     ]
    }
   ],
   "source": [
    "while True:\n",
    "    index_str = input(\"Enter Index: \")\n",
    "    if index_str == 'exit':\n",
    "        break\n",
    "    try:\n",
    "        index = int(index_str)\n",
    "        print(\"Value at index-{} is {}\".format(index, a[index]))\n",
    "        print(1/(index-2))\n",
    "    except ValueError:\n",
    "        print(\"Invalid Index\")\n",
    "    except IndexError:\n",
    "        print(\"Index out of range\")\n",
    "    except Exception:\n",
    "        print(\"Unknown Error Occured\")"
   ]
  },
  {
   "cell_type": "markdown",
   "id": "d6aee460",
   "metadata": {},
   "source": [
    "# Error will be passed to catch in the same order its defined"
   ]
  },
  {
   "cell_type": "code",
   "execution_count": 17,
   "id": "33bfde3f",
   "metadata": {},
   "outputs": [
    {
     "name": "stdout",
     "output_type": "stream",
     "text": [
      "Enter Index: abc\n",
      "Unknown Error Occured\n",
      "Enter Index: 6\n",
      "Unknown Error Occured\n",
      "Enter Index: 2\n",
      "Value at index-2 is 3\n",
      "Unknown Error Occured\n",
      "Enter Index: exit\n"
     ]
    }
   ],
   "source": [
    "while True:\n",
    "    index_str = input(\"Enter Index: \")\n",
    "    if index_str == 'exit':\n",
    "        break\n",
    "    try:\n",
    "        index = int(index_str)\n",
    "        print(\"Value at index-{} is {}\".format(index, a[index]))\n",
    "        print(1/(index-2))\n",
    "    except Exception:\n",
    "        print(\"Unknown Error Occured\")\n",
    "    except ValueError:\n",
    "        print(\"Invalid Index\")\n",
    "    except IndexError:\n",
    "        print(\"Index out of range\")"
   ]
  },
  {
   "cell_type": "markdown",
   "id": "05792a6b",
   "metadata": {},
   "source": [
    "# The above definition of catchers is not good.\n",
    "- Always specific catchers first then go for common catchers like Exception or Error"
   ]
  },
  {
   "cell_type": "markdown",
   "id": "d05f63ef",
   "metadata": {},
   "source": [
    "# How I do in general"
   ]
  },
  {
   "cell_type": "code",
   "execution_count": 18,
   "id": "41d41e17",
   "metadata": {},
   "outputs": [
    {
     "name": "stdout",
     "output_type": "stream",
     "text": [
      "Enter Index: 2\n",
      "Value at index-2 is 3\n",
      "Unknown Error Occured - division by zero\n",
      "Enter Index: exit\n"
     ]
    }
   ],
   "source": [
    "while True:\n",
    "    index_str = input(\"Enter Index: \")\n",
    "    if index_str == 'exit':\n",
    "        break\n",
    "    try:\n",
    "        index = int(index_str)\n",
    "        print(\"Value at index-{} is {}\".format(index, a[index]))\n",
    "        print(1/(index-2))\n",
    "    except ValueError:\n",
    "        print(\"Invalid Index\")\n",
    "    except IndexError:\n",
    "        print(\"Index out of range\")\n",
    "    except Exception as e:\n",
    "        print(\"Unknown Error Occured - {}\".format(e))"
   ]
  },
  {
   "cell_type": "code",
   "execution_count": 19,
   "id": "33e1aaeb",
   "metadata": {},
   "outputs": [
    {
     "name": "stdout",
     "output_type": "stream",
     "text": [
      "Enter Index: 2\n",
      "Value at index-2 is 3\n",
      "Unknown Error Occured - <method-wrapper '__str__' of ZeroDivisionError object at 0x0000021367EF0860>\n",
      "('division by zero',)\n",
      "Enter Index: exit\n"
     ]
    }
   ],
   "source": [
    "while True:\n",
    "    index_str = input(\"Enter Index: \")\n",
    "    if index_str == 'exit':\n",
    "        break\n",
    "    try:\n",
    "        index = int(index_str)\n",
    "        print(\"Value at index-{} is {}\".format(index, a[index]))\n",
    "        print(1/(index-2))\n",
    "    except ValueError:\n",
    "        print(\"Invalid Index\")\n",
    "    except IndexError:\n",
    "        print(\"Index out of range\")\n",
    "    except Exception as e:\n",
    "        print(\"Unknown Error Occured - {}\".format(e.__str__))\n",
    "        print(e.args)"
   ]
  },
  {
   "cell_type": "markdown",
   "id": "feef7092",
   "metadata": {},
   "source": [
    "# \"as \\<var_name\\>\" is used to store the exception object as an alias"
   ]
  },
  {
   "cell_type": "markdown",
   "id": "87584ac9",
   "metadata": {},
   "source": [
    "# try - except - finally\n",
    "- Finally is a block that executes in either of the cases - whether there is an exception or not"
   ]
  },
  {
   "cell_type": "markdown",
   "id": "b252bc8c",
   "metadata": {},
   "source": [
    "# File handling - lets use this to understand the finally block"
   ]
  },
  {
   "cell_type": "code",
   "execution_count": 24,
   "id": "b75065ce",
   "metadata": {},
   "outputs": [],
   "source": [
    "# open a file in python in read mode\n",
    "file = open('test.txt','r')"
   ]
  },
  {
   "cell_type": "code",
   "execution_count": 26,
   "id": "9a6cf800",
   "metadata": {},
   "outputs": [
    {
     "name": "stdout",
     "output_type": "stream",
     "text": [
      "Sudheer talluri\n"
     ]
    }
   ],
   "source": [
    "# read the contents of the file\n",
    "print(file.read())"
   ]
  },
  {
   "cell_type": "code",
   "execution_count": 27,
   "id": "64dd953a",
   "metadata": {},
   "outputs": [],
   "source": [
    "# Close the file\n",
    "file.close()"
   ]
  },
  {
   "cell_type": "markdown",
   "id": "11267c5c",
   "metadata": {},
   "source": [
    "# FYI - Other modes of opening a file\n",
    "w - write mode\n",
    "a - append mode\n",
    "r+ - for both reading and writing"
   ]
  },
  {
   "cell_type": "code",
   "execution_count": 29,
   "id": "c60fb779",
   "metadata": {},
   "outputs": [
    {
     "name": "stdout",
     "output_type": "stream",
     "text": [
      "Enter the file name to be read: abc.txt\n"
     ]
    },
    {
     "ename": "FileNotFoundError",
     "evalue": "[Errno 2] No such file or directory: 'abc.txt'",
     "output_type": "error",
     "traceback": [
      "\u001b[1;31m---------------------------------------------------------------------------\u001b[0m",
      "\u001b[1;31mFileNotFoundError\u001b[0m                         Traceback (most recent call last)",
      "\u001b[1;32m<ipython-input-29-92bb3038106b>\u001b[0m in \u001b[0;36m<module>\u001b[1;34m\u001b[0m\n\u001b[0;32m      1\u001b[0m \u001b[0mfilename\u001b[0m \u001b[1;33m=\u001b[0m \u001b[0minput\u001b[0m \u001b[1;33m(\u001b[0m\u001b[1;34m\"Enter the file name to be read: \"\u001b[0m\u001b[1;33m)\u001b[0m\u001b[1;33m\u001b[0m\u001b[1;33m\u001b[0m\u001b[0m\n\u001b[1;32m----> 2\u001b[1;33m \u001b[0mf\u001b[0m \u001b[1;33m=\u001b[0m \u001b[0mopen\u001b[0m\u001b[1;33m(\u001b[0m\u001b[0mfilename\u001b[0m\u001b[1;33m,\u001b[0m\u001b[1;34m'r'\u001b[0m\u001b[1;33m)\u001b[0m\u001b[1;33m\u001b[0m\u001b[1;33m\u001b[0m\u001b[0m\n\u001b[0m\u001b[0;32m      3\u001b[0m \u001b[0mprint\u001b[0m\u001b[1;33m(\u001b[0m\u001b[1;34m\"Content of the file is: {}\"\u001b[0m\u001b[1;33m.\u001b[0m\u001b[0mformat\u001b[0m\u001b[1;33m(\u001b[0m\u001b[0mf\u001b[0m\u001b[1;33m.\u001b[0m\u001b[0mread\u001b[0m\u001b[1;33m(\u001b[0m\u001b[1;33m)\u001b[0m\u001b[1;33m)\u001b[0m\u001b[1;33m)\u001b[0m\u001b[1;33m\u001b[0m\u001b[1;33m\u001b[0m\u001b[0m\n\u001b[0;32m      4\u001b[0m \u001b[0mf\u001b[0m\u001b[1;33m.\u001b[0m\u001b[0mclose\u001b[0m\u001b[1;33m(\u001b[0m\u001b[1;33m)\u001b[0m\u001b[1;33m\u001b[0m\u001b[1;33m\u001b[0m\u001b[0m\n\u001b[0;32m      5\u001b[0m \u001b[0mprint\u001b[0m\u001b[1;33m(\u001b[0m\u001b[1;34m'File Closed'\u001b[0m\u001b[1;33m)\u001b[0m\u001b[1;33m\u001b[0m\u001b[1;33m\u001b[0m\u001b[0m\n",
      "\u001b[1;31mFileNotFoundError\u001b[0m: [Errno 2] No such file or directory: 'abc.txt'"
     ]
    }
   ],
   "source": [
    "filename = input (\"Enter the file name to be read: \")\n",
    "f = open(filename,'r')\n",
    "print(\"Content of the file is: {}\".format(f.read()))\n",
    "f.close()\n",
    "print('File Closed')"
   ]
  },
  {
   "cell_type": "code",
   "execution_count": 30,
   "id": "e8da958f",
   "metadata": {},
   "outputs": [
    {
     "name": "stdout",
     "output_type": "stream",
     "text": [
      "Enter the file name to be read: abc.txt\n",
      "No such file\n"
     ]
    }
   ],
   "source": [
    "try:\n",
    "    filename = input (\"Enter the file name to be read: \")\n",
    "    f = open(filename,'r')\n",
    "    print(\"Content of the file is: {}\".format(f.read()))\n",
    "    f.close()\n",
    "    print('File Closed')\n",
    "except FileNotFoundError:\n",
    "    print(\"No such file\")\n",
    "except IOError as ioe:\n",
    "    print(\"Error reading file - {}\".format(ioe))\n",
    "except Exception as e:\n",
    "    print(\"Unknown error occured - {}\".format(e))"
   ]
  },
  {
   "cell_type": "markdown",
   "id": "2d645299",
   "metadata": {},
   "source": [
    "# Now lets see a scenario where file exists but an exception occurs before closing the file"
   ]
  },
  {
   "cell_type": "code",
   "execution_count": 40,
   "id": "5ee9926c",
   "metadata": {},
   "outputs": [
    {
     "name": "stdout",
     "output_type": "stream",
     "text": [
      "Enter the file name to be read: abc.txt\n",
      "Number :2\n",
      "File Closed\n"
     ]
    }
   ],
   "source": [
    "try:\n",
    "    filename = input (\"Enter the file name to be read: \")\n",
    "    f = open(filename,'a')\n",
    "    num = int(input(\"Number :\"))\n",
    "    f.write(str(num))\n",
    "    f.close()\n",
    "    print('File Closed')\n",
    "except FileNotFoundError:\n",
    "    print(\"No such file\")\n",
    "except IOError as ioe:\n",
    "    print(\"Error reading file - {}\".format(ioe))\n",
    "except Exception as e:\n",
    "    print(\"Unknown error occured - {}\".format(e))"
   ]
  },
  {
   "cell_type": "code",
   "execution_count": 41,
   "id": "2e9495ff",
   "metadata": {},
   "outputs": [
    {
     "name": "stdout",
     "output_type": "stream",
     "text": [
      "Enter the file name to be read: test.txt\n",
      "Number :abc\n",
      "Unknown error occured - invalid literal for int() with base 10: 'abc'\n",
      "File Closed\n"
     ]
    }
   ],
   "source": [
    "try:\n",
    "    filename = input (\"Enter the file name to be read: \")\n",
    "    f = open(filename,'a')\n",
    "    num = int(input(\"Number :\"))\n",
    "    f.write(str(num))\n",
    "except Exception as e: # Appending a file can create a new file if not there\n",
    "    print(\"Unknown error occured - {}\".format(e))\n",
    "finally:\n",
    "    f.close()\n",
    "    print('File Closed')"
   ]
  },
  {
   "cell_type": "markdown",
   "id": "a7299571",
   "metadata": {},
   "source": [
    "## The finally block always executes after normal termination of try block or after try block terminates due to some exception"
   ]
  },
  {
   "cell_type": "markdown",
   "id": "6238b004",
   "metadata": {},
   "source": [
    "# Best way to open files - context managers\n",
    "- Now that we talked about file management, lets discuss this as well\n",
    "- using this python will automatically close the file after the block completes or even during exceptions"
   ]
  },
  {
   "cell_type": "code",
   "execution_count": 42,
   "id": "cc6b2e2c",
   "metadata": {},
   "outputs": [
    {
     "name": "stdout",
     "output_type": "stream",
     "text": [
      "Sudheer talluri2\n"
     ]
    }
   ],
   "source": [
    "with open('test.txt', 'r') as file:\n",
    "    content = file.read()\n",
    "print(content)"
   ]
  },
  {
   "cell_type": "markdown",
   "id": "962715aa",
   "metadata": {},
   "source": [
    "# Try & Except with else clause\n",
    "- Execute only if there are no exceptions"
   ]
  },
  {
   "cell_type": "code",
   "execution_count": 49,
   "id": "13fd6f56",
   "metadata": {},
   "outputs": [
    {
     "name": "stdout",
     "output_type": "stream",
     "text": [
      "Number :abc\n",
      "Exception\n"
     ]
    }
   ],
   "source": [
    "try:\n",
    "    number = int(input(\"Number :\"))\n",
    "except:\n",
    "    print(\"Exception\")\n",
    "else:\n",
    "    print(number*2)"
   ]
  },
  {
   "cell_type": "markdown",
   "id": "76cbdf7a",
   "metadata": {},
   "source": [
    "# Final Summary for try-except-else-finally"
   ]
  },
  {
   "cell_type": "raw",
   "id": "39874cb9",
   "metadata": {},
   "source": [
    "try: (Try block should always accompany with either except or finally)\n",
    "    # Some Code.... \n",
    "\n",
    "except:\n",
    "    # optional block\n",
    "    # Handling of exception (if required)\n",
    "\n",
    "else: (else should contain both try and except) \n",
    "    # execute if no exception\n",
    "\n",
    "finally:(finally should atleast contain try or all the above three)\n",
    "    # Some code .....(always executed)"
   ]
  },
  {
   "cell_type": "markdown",
   "id": "5cc3c316",
   "metadata": {},
   "source": [
    "# Raising Exceptions\n",
    "- The raise statement allows the programmer to force a specific exception to occur"
   ]
  },
  {
   "cell_type": "code",
   "execution_count": 51,
   "id": "f6128288",
   "metadata": {},
   "outputs": [],
   "source": [
    "import re"
   ]
  },
  {
   "cell_type": "code",
   "execution_count": 54,
   "id": "2b4b0279",
   "metadata": {},
   "outputs": [
    {
     "name": "stdout",
     "output_type": "stream",
     "text": [
      "Enter a SID: 2\n"
     ]
    },
    {
     "ename": "Exception",
     "evalue": "Invalid SID",
     "output_type": "error",
     "traceback": [
      "\u001b[1;31m---------------------------------------------------------------------------\u001b[0m",
      "\u001b[1;31mException\u001b[0m                                 Traceback (most recent call last)",
      "\u001b[1;32m<ipython-input-54-19adaeebedcd>\u001b[0m in \u001b[0;36m<module>\u001b[1;34m\u001b[0m\n\u001b[0;32m      4\u001b[0m     \u001b[0mprint\u001b[0m\u001b[1;33m(\u001b[0m\u001b[1;34m\"Valid SID\"\u001b[0m\u001b[1;33m)\u001b[0m\u001b[1;33m\u001b[0m\u001b[1;33m\u001b[0m\u001b[0m\n\u001b[0;32m      5\u001b[0m \u001b[1;32melse\u001b[0m\u001b[1;33m:\u001b[0m\u001b[1;33m\u001b[0m\u001b[1;33m\u001b[0m\u001b[0m\n\u001b[1;32m----> 6\u001b[1;33m     \u001b[1;32mraise\u001b[0m \u001b[0mException\u001b[0m\u001b[1;33m(\u001b[0m\u001b[1;34m\"Invalid SID\"\u001b[0m\u001b[1;33m)\u001b[0m\u001b[1;33m\u001b[0m\u001b[1;33m\u001b[0m\u001b[0m\n\u001b[0m",
      "\u001b[1;31mException\u001b[0m: Invalid SID"
     ]
    }
   ],
   "source": [
    "sid = input(\"Enter a SID: \")\n",
    "pattern = '[A-za-z]\\d{6}'\n",
    "if re.fullmatch(pattern,sid):\n",
    "    print(\"Valid SID\")\n",
    "else:\n",
    "    raise Exception(\"Invalid SID\")"
   ]
  },
  {
   "cell_type": "markdown",
   "id": "1f2e7af7",
   "metadata": {},
   "source": [
    "# Assignment - How to create and raise User-defined exceptions\n",
    "- Hint: Using the concept of Inheritance (Inherit Exception or Error classes)"
   ]
  },
  {
   "cell_type": "code",
   "execution_count": null,
   "id": "1bcb840b",
   "metadata": {},
   "outputs": [],
   "source": []
  }
 ],
 "metadata": {
  "kernelspec": {
   "display_name": "Python 3",
   "language": "python",
   "name": "python3"
  },
  "language_info": {
   "codemirror_mode": {
    "name": "ipython",
    "version": 3
   },
   "file_extension": ".py",
   "mimetype": "text/x-python",
   "name": "python",
   "nbconvert_exporter": "python",
   "pygments_lexer": "ipython3",
   "version": "3.8.8"
  }
 },
 "nbformat": 4,
 "nbformat_minor": 5
}
