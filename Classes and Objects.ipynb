{
 "cells": [
  {
   "cell_type": "markdown",
   "id": "b825512c",
   "metadata": {},
   "source": [
    "# Python Classes and Objects\n",
    "- Python is an Object Oriented Programming language\n",
    "- Almost everything in a python is an object, with its properties and methods"
   ]
  },
  {
   "cell_type": "markdown",
   "id": "37e82786",
   "metadata": {},
   "source": [
    "# Definitions\n",
    "- Object\n",
    "    > an encapsulation of data along with functions that act upon that data\n",
    "- Class\n",
    "    > a blueprint for objects"
   ]
  },
  {
   "cell_type": "markdown",
   "id": "a507d35e",
   "metadata": {},
   "source": [
    "# Analogy\n",
    "- Class is like a sketch or design of a building\n",
    "- Object is like the building itself - with the same sketch you can build different buildings with or without some adjustments\n",
    "\n",
    "> An object is also called an instance of a class and the process of creating this object is called instantiation."
   ]
  },
  {
   "cell_type": "code",
   "execution_count": 5,
   "id": "3a1d7663",
   "metadata": {},
   "outputs": [
    {
     "name": "stdout",
     "output_type": "stream",
     "text": [
      "memory address of the variable is 140715950876496\n"
     ]
    }
   ],
   "source": [
    "# memory address of an object can be found as\n",
    "variable = 2\n",
    "print(\"memory address of the variable object is\",id(variable))"
   ]
  },
  {
   "cell_type": "markdown",
   "id": "d422e3d4",
   "metadata": {},
   "source": [
    "## Creating First class"
   ]
  },
  {
   "cell_type": "code",
   "execution_count": 6,
   "id": "2f8d64d6",
   "metadata": {},
   "outputs": [],
   "source": [
    "class MyFirstClass:\n",
    "    '''This is my first ever class'''\n",
    "    pass"
   ]
  },
  {
   "cell_type": "raw",
   "id": "fcbd6361",
   "metadata": {},
   "source": [
    "According to python PEP-8 Standards, use camelcase for the Class names"
   ]
  },
  {
   "cell_type": "code",
   "execution_count": 7,
   "id": "dfb4193a",
   "metadata": {},
   "outputs": [
    {
     "data": {
      "text/plain": [
       "'This is my first ever class'"
      ]
     },
     "execution_count": 7,
     "metadata": {},
     "output_type": "execute_result"
    }
   ],
   "source": [
    "# get the documentation strings of a class\n",
    "MyFirstClass.__doc__"
   ]
  },
  {
   "cell_type": "code",
   "execution_count": 8,
   "id": "ca95d5dc",
   "metadata": {},
   "outputs": [],
   "source": [
    "# defining a class level variable\n",
    "class VarClass:\n",
    "    my_var = 2"
   ]
  },
  {
   "cell_type": "code",
   "execution_count": 9,
   "id": "68d88070",
   "metadata": {},
   "outputs": [
    {
     "data": {
      "text/plain": [
       "2"
      ]
     },
     "execution_count": 9,
     "metadata": {},
     "output_type": "execute_result"
    }
   ],
   "source": [
    "#accessing the class level variable\n",
    "VarClass.my_var"
   ]
  },
  {
   "cell_type": "code",
   "execution_count": 13,
   "id": "8e14c25d",
   "metadata": {},
   "outputs": [],
   "source": [
    "# function inside a class\n",
    "class FunClass:\n",
    "    def my_func(self):\n",
    "        print('Function inside the class')"
   ]
  },
  {
   "cell_type": "code",
   "execution_count": 17,
   "id": "453bcccd",
   "metadata": {},
   "outputs": [
    {
     "data": {
      "text/plain": [
       "<__main__.FunClass at 0x26fddaa3d00>"
      ]
     },
     "execution_count": 17,
     "metadata": {},
     "output_type": "execute_result"
    }
   ],
   "source": [
    "# Creating a object\n",
    "FunClass()"
   ]
  },
  {
   "cell_type": "code",
   "execution_count": 14,
   "id": "bc69de86",
   "metadata": {},
   "outputs": [],
   "source": [
    "# store in the Funclass object into a variable\n",
    "fun_class_obj = FunClass()"
   ]
  },
  {
   "cell_type": "code",
   "execution_count": 15,
   "id": "9b6c2e5d",
   "metadata": {},
   "outputs": [
    {
     "name": "stdout",
     "output_type": "stream",
     "text": [
      "Function inside the class\n"
     ]
    }
   ],
   "source": [
    "# calling a function inside the class\n",
    "fun_class_obj.my_func()"
   ]
  },
  {
   "cell_type": "markdown",
   "id": "c6ad2e04",
   "metadata": {},
   "source": [
    "# What does self do?"
   ]
  },
  {
   "cell_type": "code",
   "execution_count": 22,
   "id": "98bdd385",
   "metadata": {},
   "outputs": [],
   "source": [
    "# function inside a class\n",
    "class FunClass:\n",
    "    def my_func(self):\n",
    "        print('Function inside the class')\n",
    "        return self"
   ]
  },
  {
   "cell_type": "code",
   "execution_count": 23,
   "id": "8d3b5f86",
   "metadata": {},
   "outputs": [
    {
     "name": "stdout",
     "output_type": "stream",
     "text": [
      "Function inside the class\n",
      "Function inside the class\n",
      "<__main__.FunClass object at 0x0000026FDDAAC430> <__main__.FunClass object at 0x0000026FDDAAC550>\n"
     ]
    }
   ],
   "source": [
    "fun_class_obj = FunClass()\n",
    "fun_class_obj2 = FunClass()\n",
    "print(fun_class_obj.my_func(), fun_class_obj2.my_func())"
   ]
  },
  {
   "cell_type": "code",
   "execution_count": 27,
   "id": "33841d51",
   "metadata": {},
   "outputs": [
    {
     "name": "stdout",
     "output_type": "stream",
     "text": [
      "<method-wrapper '__str__' of FunClass object at 0x0000026FDDAAC430> <method-wrapper '__str__' of FunClass object at 0x0000026FDDAAC550>\n"
     ]
    }
   ],
   "source": [
    "# __str__ gives the the details of id in memory to which the object is pointing to\n",
    "print(fun_class_obj.__str__, fun_class_obj2.__str__)"
   ]
  },
  {
   "cell_type": "markdown",
   "id": "c9fea2ef",
   "metadata": {},
   "source": [
    "# \\_\\_init\\_\\_ method in a class\n",
    "- Also called as constructor\n",
    "- It gets called whenever a new object gets instantiated\n",
    "- Thats why it is used to define the object specific properties"
   ]
  },
  {
   "cell_type": "code",
   "execution_count": 28,
   "id": "69cb69aa",
   "metadata": {},
   "outputs": [],
   "source": [
    "class ClassWithConstructor:\n",
    "    def __init__(self):\n",
    "        print(\"Constructor\")"
   ]
  },
  {
   "cell_type": "code",
   "execution_count": 29,
   "id": "97bd14ba",
   "metadata": {},
   "outputs": [
    {
     "name": "stdout",
     "output_type": "stream",
     "text": [
      "Constructor\n"
     ]
    }
   ],
   "source": [
    "obj1 = ClassWithConstructor()"
   ]
  },
  {
   "cell_type": "code",
   "execution_count": 30,
   "id": "2aa098f7",
   "metadata": {},
   "outputs": [
    {
     "name": "stdout",
     "output_type": "stream",
     "text": [
      "Constructor\n"
     ]
    }
   ],
   "source": [
    "obj2 = ClassWithConstructor()"
   ]
  },
  {
   "cell_type": "code",
   "execution_count": 31,
   "id": "8e923a4c",
   "metadata": {},
   "outputs": [],
   "source": [
    "# define a object level variable( or called as instance variable)\n",
    "class ObjectLevelVariable:\n",
    "    def __init__(self):\n",
    "        self.var = 'sudheer'"
   ]
  },
  {
   "cell_type": "code",
   "execution_count": 32,
   "id": "3bc863a6",
   "metadata": {},
   "outputs": [
    {
     "data": {
      "text/plain": [
       "'sudheer'"
      ]
     },
     "execution_count": 32,
     "metadata": {},
     "output_type": "execute_result"
    }
   ],
   "source": [
    "# access object level variable - and let people know the difference btw object level and class level variable\n",
    "obj = ObjectLevelVariable()\n",
    "obj.var"
   ]
  },
  {
   "cell_type": "code",
   "execution_count": 39,
   "id": "663bea23",
   "metadata": {},
   "outputs": [],
   "source": [
    "# Passing parameters to constructors to create object specific variables\n",
    "class Person:\n",
    "    def __init__(self, name, age):\n",
    "        self.name = name\n",
    "        self.age = age"
   ]
  },
  {
   "cell_type": "code",
   "execution_count": 40,
   "id": "0477faef",
   "metadata": {},
   "outputs": [
    {
     "name": "stdout",
     "output_type": "stream",
     "text": [
      "sudheer 22\n"
     ]
    }
   ],
   "source": [
    "person = Person('sudheer', 22)\n",
    "print(person.name, person.age)"
   ]
  },
  {
   "cell_type": "code",
   "execution_count": 41,
   "id": "6091f0c0",
   "metadata": {},
   "outputs": [
    {
     "name": "stdout",
     "output_type": "stream",
     "text": [
      "Batman 100\n"
     ]
    }
   ],
   "source": [
    "person2 = Person('Batman', 100)\n",
    "print(person2.name, person2.age)"
   ]
  },
  {
   "cell_type": "code",
   "execution_count": 42,
   "id": "4c76b9a2",
   "metadata": {},
   "outputs": [],
   "source": [
    "# using the instance variable inside the class\n",
    "class Person:\n",
    "    def __init__(self, name, age):\n",
    "        self.name = name\n",
    "        self.age = age\n",
    "        \n",
    "    def greet(self):\n",
    "        print(\"Hello\", self.name)"
   ]
  },
  {
   "cell_type": "code",
   "execution_count": 44,
   "id": "15f952fe",
   "metadata": {},
   "outputs": [
    {
     "name": "stdout",
     "output_type": "stream",
     "text": [
      "Hello sudheer\n"
     ]
    }
   ],
   "source": [
    "person3 = Person('sudheer', 22)\n",
    "person3.greet()"
   ]
  },
  {
   "cell_type": "code",
   "execution_count": 46,
   "id": "7d10132b",
   "metadata": {},
   "outputs": [
    {
     "data": {
      "text/plain": [
       "'sudheer'"
      ]
     },
     "execution_count": 46,
     "metadata": {},
     "output_type": "execute_result"
    }
   ],
   "source": [
    "person3.name"
   ]
  },
  {
   "cell_type": "markdown",
   "id": "b6fab081",
   "metadata": {},
   "source": [
    "# Class Inheritance\n",
    "- Inheritance allows us to define a class that inherits all the methods and properties from another class\n",
    "- Class that is geeting inherited is parent class and the class that is inheriting the first class is inherited class or child class"
   ]
  },
  {
   "cell_type": "code",
   "execution_count": 47,
   "id": "558b8d31",
   "metadata": {},
   "outputs": [
    {
     "name": "stdout",
     "output_type": "stream",
     "text": [
      "sudheer 22\n"
     ]
    }
   ],
   "source": [
    "class Parent:\n",
    "    name = 'sudheer'\n",
    "class Child(Parent):\n",
    "    age = 22\n",
    "print(Child.name, Child.age)"
   ]
  },
  {
   "cell_type": "markdown",
   "id": "058b2ee2",
   "metadata": {},
   "source": [
    "# Method and property overriding"
   ]
  },
  {
   "cell_type": "code",
   "execution_count": 48,
   "id": "e8add4ce",
   "metadata": {},
   "outputs": [],
   "source": [
    "class First:\n",
    "    def __init__(self):\n",
    "        self.var = 'something'\n",
    "    def func(self):\n",
    "        print(\"first method\")\n",
    "\n",
    "class Second(First):\n",
    "    def __init__(self):\n",
    "        self.var = 'nothing'\n",
    "    def func(self):\n",
    "        print(\"second method\")"
   ]
  },
  {
   "cell_type": "code",
   "execution_count": 49,
   "id": "c5de7bab",
   "metadata": {},
   "outputs": [
    {
     "name": "stdout",
     "output_type": "stream",
     "text": [
      "first method\n"
     ]
    },
    {
     "data": {
      "text/plain": [
       "'something'"
      ]
     },
     "execution_count": 49,
     "metadata": {},
     "output_type": "execute_result"
    }
   ],
   "source": [
    "first = First()\n",
    "first.func()\n",
    "first.var"
   ]
  },
  {
   "cell_type": "code",
   "execution_count": 50,
   "id": "35850d2a",
   "metadata": {},
   "outputs": [
    {
     "name": "stdout",
     "output_type": "stream",
     "text": [
      "second method\n"
     ]
    },
    {
     "data": {
      "text/plain": [
       "'nothing'"
      ]
     },
     "execution_count": 50,
     "metadata": {},
     "output_type": "execute_result"
    }
   ],
   "source": [
    "second = Second()\n",
    "second.func()\n",
    "second.var"
   ]
  },
  {
   "cell_type": "markdown",
   "id": "ec95fcd1",
   "metadata": {},
   "source": [
    "# Private variables for a class"
   ]
  },
  {
   "cell_type": "code",
   "execution_count": 64,
   "id": "696bfa85",
   "metadata": {},
   "outputs": [],
   "source": [
    "class MyParent:\n",
    "    def __init__(self):\n",
    "        self.__var = 'a'\n",
    "        self.var = 'b'\n",
    "class MyChild(MyParent):\n",
    "    def func(self):\n",
    "        print(self.var)\n",
    "        print(self.__var)"
   ]
  },
  {
   "cell_type": "code",
   "execution_count": 65,
   "id": "b0f9806f",
   "metadata": {},
   "outputs": [
    {
     "name": "stdout",
     "output_type": "stream",
     "text": [
      "b\n"
     ]
    },
    {
     "ename": "AttributeError",
     "evalue": "'MyChild' object has no attribute '_MyChild__var'",
     "output_type": "error",
     "traceback": [
      "\u001b[1;31m---------------------------------------------------------------------------\u001b[0m",
      "\u001b[1;31mAttributeError\u001b[0m                            Traceback (most recent call last)",
      "\u001b[1;32m<ipython-input-65-cd510043be3c>\u001b[0m in \u001b[0;36m<module>\u001b[1;34m\u001b[0m\n\u001b[1;32m----> 1\u001b[1;33m \u001b[0mMyChild\u001b[0m\u001b[1;33m(\u001b[0m\u001b[1;33m)\u001b[0m\u001b[1;33m.\u001b[0m\u001b[0mfunc\u001b[0m\u001b[1;33m(\u001b[0m\u001b[1;33m)\u001b[0m\u001b[1;33m\u001b[0m\u001b[1;33m\u001b[0m\u001b[0m\n\u001b[0m",
      "\u001b[1;32m<ipython-input-64-691fa011dfa1>\u001b[0m in \u001b[0;36mfunc\u001b[1;34m(self)\u001b[0m\n\u001b[0;32m      6\u001b[0m     \u001b[1;32mdef\u001b[0m \u001b[0mfunc\u001b[0m\u001b[1;33m(\u001b[0m\u001b[0mself\u001b[0m\u001b[1;33m)\u001b[0m\u001b[1;33m:\u001b[0m\u001b[1;33m\u001b[0m\u001b[1;33m\u001b[0m\u001b[0m\n\u001b[0;32m      7\u001b[0m         \u001b[0mprint\u001b[0m\u001b[1;33m(\u001b[0m\u001b[0mself\u001b[0m\u001b[1;33m.\u001b[0m\u001b[0mvar\u001b[0m\u001b[1;33m)\u001b[0m\u001b[1;33m\u001b[0m\u001b[1;33m\u001b[0m\u001b[0m\n\u001b[1;32m----> 8\u001b[1;33m         \u001b[0mprint\u001b[0m\u001b[1;33m(\u001b[0m\u001b[0mself\u001b[0m\u001b[1;33m.\u001b[0m\u001b[0m__var\u001b[0m\u001b[1;33m)\u001b[0m\u001b[1;33m\u001b[0m\u001b[1;33m\u001b[0m\u001b[0m\n\u001b[0m",
      "\u001b[1;31mAttributeError\u001b[0m: 'MyChild' object has no attribute '_MyChild__var'"
     ]
    }
   ],
   "source": [
    "MyChild().func()"
   ]
  },
  {
   "cell_type": "markdown",
   "id": "bf5ba482",
   "metadata": {},
   "source": [
    "# Name Mangling\n",
    "- In Python, there is something called name mangling, which means that there is a limited support for a valid use-case for class-private members basically to avoid name clashes of names with names defined by subclasses\n",
    "- So basically any variable or function with starting two underscores, python will save it as _\\<classname>__\\<varname> making it not possible for child classes to access it"
   ]
  },
  {
   "cell_type": "markdown",
   "id": "30573b6e",
   "metadata": {},
   "source": [
    "# What will both starting and trailing double underscore do?\n",
    "- Those are considered as \"MAGIC PROPERTIES OR METHODS\"\n",
    "- Python checks for any special definition that is there for that property or method ex: \\_\\_init\\_\\_() it need not be called, it will be loaded during the instantiation"
   ]
  }
 ],
 "metadata": {
  "kernelspec": {
   "display_name": "Python 3",
   "language": "python",
   "name": "python3"
  },
  "language_info": {
   "codemirror_mode": {
    "name": "ipython",
    "version": 3
   },
   "file_extension": ".py",
   "mimetype": "text/x-python",
   "name": "python",
   "nbconvert_exporter": "python",
   "pygments_lexer": "ipython3",
   "version": "3.8.8"
  }
 },
 "nbformat": 4,
 "nbformat_minor": 5
}
