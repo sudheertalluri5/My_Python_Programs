{
 "cells": [
  {
   "cell_type": "markdown",
   "id": "fcc9cbde",
   "metadata": {},
   "source": [
    "# String Manipulations\n",
    "- Definition : Equivalent to character array (Anything between single or double quotes)"
   ]
  },
  {
   "cell_type": "code",
   "execution_count": 4,
   "id": "5609c959",
   "metadata": {},
   "outputs": [
    {
     "name": "stdout",
     "output_type": "stream",
     "text": [
      "Python Training\n"
     ]
    }
   ],
   "source": [
    "# defining a string\n",
    "# variable = literal\n",
    "course = 'Python Training'\n",
    "print(course)"
   ]
  },
  {
   "cell_type": "code",
   "execution_count": 5,
   "id": "030aa6c4",
   "metadata": {},
   "outputs": [
    {
     "name": "stdout",
     "output_type": "stream",
     "text": [
      "<class 'str'>\n"
     ]
    }
   ],
   "source": [
    "# verify its a string\n",
    "print(type(course))"
   ]
  },
  {
   "cell_type": "markdown",
   "id": "a3909749",
   "metadata": {},
   "source": [
    "# Tips and Tricks on Strings\n",
    "- Concatenation\n",
    "- Indexing\n",
    "- Slicing"
   ]
  },
  {
   "cell_type": "code",
   "execution_count": 6,
   "id": "acf7acfa",
   "metadata": {},
   "outputs": [
    {
     "name": "stdout",
     "output_type": "stream",
     "text": [
      "Hello, how are you Prakash\n"
     ]
    }
   ],
   "source": [
    "# Concatenate strings\n",
    "greeting = 'Hello, how are you '\n",
    "name = 'Prakash'\n",
    "print(greeting + name)"
   ]
  },
  {
   "cell_type": "code",
   "execution_count": 7,
   "id": "0bc73cfa",
   "metadata": {},
   "outputs": [
    {
     "name": "stdout",
     "output_type": "stream",
     "text": [
      "P y\n"
     ]
    }
   ],
   "source": [
    "# Indexing strings\n",
    "print(course[0], course[1])"
   ]
  },
  {
   "cell_type": "code",
   "execution_count": 9,
   "id": "acf839aa",
   "metadata": {},
   "outputs": [
    {
     "name": "stdout",
     "output_type": "stream",
     "text": [
      "g\n",
      "g\n"
     ]
    }
   ],
   "source": [
    "# Negative Indexing\n",
    "print(course[len(course)-1])\n",
    "print(course[-1])"
   ]
  },
  {
   "cell_type": "code",
   "execution_count": 10,
   "id": "3ad1db34",
   "metadata": {},
   "outputs": [
    {
     "name": "stdout",
     "output_type": "stream",
     "text": [
      "yh\n"
     ]
    }
   ],
   "source": [
    "# Slicing\n",
    "# string_variable[start:stop:step] -> start to stop-1 with a increase of step\n",
    "print(course[1:5:2])"
   ]
  },
  {
   "cell_type": "code",
   "execution_count": 11,
   "id": "883efc3e",
   "metadata": {},
   "outputs": [
    {
     "name": "stdout",
     "output_type": "stream",
     "text": [
      "Py\n"
     ]
    }
   ],
   "source": [
    "print(course[:2])"
   ]
  },
  {
   "cell_type": "code",
   "execution_count": 14,
   "id": "62e62fcd",
   "metadata": {},
   "outputs": [
    {
     "name": "stdout",
     "output_type": "stream",
     "text": [
      "Python Trainin\n"
     ]
    }
   ],
   "source": [
    "print(course[:-1])"
   ]
  },
  {
   "cell_type": "markdown",
   "id": "191898f1",
   "metadata": {},
   "source": [
    "# String Inbuilt Functions\n",
    "- len()\n",
    "- replace()\n",
    "- split()\n",
    "- count()\n",
    "- strip()\n",
    "- lower()\n",
    "- upper()\n",
    "- title()"
   ]
  },
  {
   "cell_type": "code",
   "execution_count": 15,
   "id": "814a59a2",
   "metadata": {},
   "outputs": [],
   "source": [
    "mystring = 'Day 3 of python training is on string manipulation'"
   ]
  },
  {
   "cell_type": "code",
   "execution_count": 16,
   "id": "de584af3",
   "metadata": {},
   "outputs": [
    {
     "data": {
      "text/plain": [
       "50"
      ]
     },
     "execution_count": 16,
     "metadata": {},
     "output_type": "execute_result"
    }
   ],
   "source": [
    "len(mystring)"
   ]
  },
  {
   "cell_type": "code",
   "execution_count": 17,
   "id": "69604aea",
   "metadata": {},
   "outputs": [
    {
     "data": {
      "text/plain": [
       "'Day 4 of python training is on string manipulation'"
      ]
     },
     "execution_count": 17,
     "metadata": {},
     "output_type": "execute_result"
    }
   ],
   "source": [
    "mystring.replace('3', '4')"
   ]
  },
  {
   "cell_type": "code",
   "execution_count": 18,
   "id": "e4434f97",
   "metadata": {},
   "outputs": [
    {
     "data": {
      "text/plain": [
       "'Day 3 of python training is on string manipulation'"
      ]
     },
     "execution_count": 18,
     "metadata": {},
     "output_type": "execute_result"
    }
   ],
   "source": [
    "mystring"
   ]
  },
  {
   "cell_type": "code",
   "execution_count": 19,
   "id": "7039a143",
   "metadata": {},
   "outputs": [
    {
     "data": {
      "text/plain": [
       "6"
      ]
     },
     "execution_count": 19,
     "metadata": {},
     "output_type": "execute_result"
    }
   ],
   "source": [
    "mystring.count('i')"
   ]
  },
  {
   "cell_type": "code",
   "execution_count": 20,
   "id": "d6fe9513",
   "metadata": {},
   "outputs": [
    {
     "data": {
      "text/plain": [
       "3"
      ]
     },
     "execution_count": 20,
     "metadata": {},
     "output_type": "execute_result"
    }
   ],
   "source": [
    "mystring.count('in')"
   ]
  },
  {
   "cell_type": "code",
   "execution_count": 21,
   "id": "4f8da7a7",
   "metadata": {},
   "outputs": [
    {
     "data": {
      "text/plain": [
       "'day 3 of python training is on string manipulation'"
      ]
     },
     "execution_count": 21,
     "metadata": {},
     "output_type": "execute_result"
    }
   ],
   "source": [
    "mystring.lower()"
   ]
  },
  {
   "cell_type": "code",
   "execution_count": 22,
   "id": "96910a33",
   "metadata": {},
   "outputs": [
    {
     "data": {
      "text/plain": [
       "'Day 3 of python training is on string manipulation'"
      ]
     },
     "execution_count": 22,
     "metadata": {},
     "output_type": "execute_result"
    }
   ],
   "source": [
    "mystring"
   ]
  },
  {
   "cell_type": "code",
   "execution_count": 23,
   "id": "37e6da2e",
   "metadata": {},
   "outputs": [
    {
     "data": {
      "text/plain": [
       "'DAY 3 OF PYTHON TRAINING IS ON STRING MANIPULATION'"
      ]
     },
     "execution_count": 23,
     "metadata": {},
     "output_type": "execute_result"
    }
   ],
   "source": [
    "mystring.upper()"
   ]
  },
  {
   "cell_type": "code",
   "execution_count": 29,
   "id": "508d059c",
   "metadata": {},
   "outputs": [
    {
     "data": {
      "text/plain": [
       "'Day 3 Of Python Training Is On String Manipulation'"
      ]
     },
     "execution_count": 29,
     "metadata": {},
     "output_type": "execute_result"
    }
   ],
   "source": [
    "mystring.title()"
   ]
  },
  {
   "cell_type": "code",
   "execution_count": 25,
   "id": "367d5c4e",
   "metadata": {},
   "outputs": [
    {
     "data": {
      "text/plain": [
       "['Sudheer', 'Prakash', 'Anna']"
      ]
     },
     "execution_count": 25,
     "metadata": {},
     "output_type": "execute_result"
    }
   ],
   "source": [
    "# split by comma\n",
    "comma_seperated_string = 'Sudheer,Prakash,Anna'\n",
    "comma_seperated_string.split(',')"
   ]
  },
  {
   "cell_type": "code",
   "execution_count": 26,
   "id": "4da63aea",
   "metadata": {},
   "outputs": [
    {
     "data": {
      "text/plain": [
       "'Hello,  How are you?'"
      ]
     },
     "execution_count": 26,
     "metadata": {},
     "output_type": "execute_result"
    }
   ],
   "source": [
    "# strip\n",
    "mystring1 = '       Hello,  How are you?   '\n",
    "mystring1.strip()"
   ]
  },
  {
   "cell_type": "code",
   "execution_count": 27,
   "id": "7f08b0f9",
   "metadata": {},
   "outputs": [
    {
     "data": {
      "text/plain": [
       "'Hello,  How are you?   '"
      ]
     },
     "execution_count": 27,
     "metadata": {},
     "output_type": "execute_result"
    }
   ],
   "source": [
    "mystring1.lstrip()"
   ]
  },
  {
   "cell_type": "code",
   "execution_count": 28,
   "id": "da081fa5",
   "metadata": {},
   "outputs": [
    {
     "data": {
      "text/plain": [
       "'       Hello,  How are you?'"
      ]
     },
     "execution_count": 28,
     "metadata": {},
     "output_type": "execute_result"
    }
   ],
   "source": [
    "mystring1.rstrip()"
   ]
  },
  {
   "cell_type": "markdown",
   "id": "30e22048",
   "metadata": {},
   "source": [
    "# Multiplication of Strings"
   ]
  },
  {
   "cell_type": "code",
   "execution_count": 30,
   "id": "7a2b3165",
   "metadata": {},
   "outputs": [
    {
     "name": "stdout",
     "output_type": "stream",
     "text": [
      "____________________________________________________________________________________________________\n"
     ]
    }
   ],
   "source": [
    "underscore = '_'\n",
    "underline = underscore*100\n",
    "print(underline)"
   ]
  },
  {
   "cell_type": "markdown",
   "id": "8041c6f3",
   "metadata": {},
   "source": [
    "# Multiline Strings"
   ]
  },
  {
   "cell_type": "code",
   "execution_count": 31,
   "id": "6b66fe4d",
   "metadata": {},
   "outputs": [
    {
     "ename": "SyntaxError",
     "evalue": "EOL while scanning string literal (<ipython-input-31-9308e449dce1>, line 2)",
     "output_type": "error",
     "traceback": [
      "\u001b[1;36m  File \u001b[1;32m\"<ipython-input-31-9308e449dce1>\"\u001b[1;36m, line \u001b[1;32m2\u001b[0m\n\u001b[1;33m    mystring2 = 'Name: Sudheer\u001b[0m\n\u001b[1;37m                              ^\u001b[0m\n\u001b[1;31mSyntaxError\u001b[0m\u001b[1;31m:\u001b[0m EOL while scanning string literal\n"
     ]
    }
   ],
   "source": [
    "#problem\n",
    "mystring2 = 'Name: Sudheer\n",
    "Age: 22\n",
    "Company: JPMC'"
   ]
  },
  {
   "cell_type": "code",
   "execution_count": 32,
   "id": "9f28c99e",
   "metadata": {},
   "outputs": [
    {
     "name": "stdout",
     "output_type": "stream",
     "text": [
      "\n",
      "Name: Sudheer\n",
      "Age: 22\n",
      "Company: JPMC\n",
      "\n"
     ]
    }
   ],
   "source": [
    "# solution\n",
    "mystring2 = \"\"\"\n",
    "Name: Sudheer\n",
    "Age: 22\n",
    "Company: JPMC\n",
    "\"\"\"\n",
    "print(mystring2)"
   ]
  },
  {
   "cell_type": "markdown",
   "id": "6481e6b3",
   "metadata": {},
   "source": [
    "### Notes on multiline strings\n",
    "> Anything Under thriple single/double qoutes is a multiline string <br>\n",
    "> Generally used for documentation"
   ]
  },
  {
   "cell_type": "code",
   "execution_count": 34,
   "id": "d1027dde",
   "metadata": {},
   "outputs": [
    {
     "name": "stdout",
     "output_type": "stream",
     "text": [
      "Name: Sudheer \n",
      "Age: 22 \n",
      "Company: JPMC\n"
     ]
    }
   ],
   "source": [
    "# Other possible ways for mutliple line string is\n",
    "print(\"Name: Sudheer \\nAge: 22 \\nCompany: JPMC\")"
   ]
  },
  {
   "cell_type": "markdown",
   "id": "7cc2a723",
   "metadata": {},
   "source": [
    "### Also called as Escape sequences \n",
    "> Small Self Work <br>\n",
    "> - \\r, \\t - what does they do\n",
    "> - How to print a \\ (blackslash) in python - helps during declaring paths as variables in real life"
   ]
  },
  {
   "cell_type": "markdown",
   "id": "332c78bd",
   "metadata": {},
   "source": [
    "# join function\n",
    "- Reverse of split function\n",
    "- Easy concatenation for multiple objects"
   ]
  },
  {
   "cell_type": "code",
   "execution_count": 35,
   "id": "a7092898",
   "metadata": {},
   "outputs": [
    {
     "data": {
      "text/plain": [
       "'Sudheer,Prakash,Anna'"
      ]
     },
     "execution_count": 35,
     "metadata": {},
     "output_type": "execute_result"
    }
   ],
   "source": [
    "mylist = ['Sudheer', 'Prakash', 'Anna']\n",
    "','.join(mylist)"
   ]
  },
  {
   "cell_type": "markdown",
   "id": "d29ce418",
   "metadata": {},
   "source": [
    "# format strings\n",
    "- put values in strings dynamically"
   ]
  },
  {
   "cell_type": "code",
   "execution_count": 37,
   "id": "8e7aee65",
   "metadata": {},
   "outputs": [
    {
     "name": "stdout",
     "output_type": "stream",
     "text": [
      "Good morning Sudheer\n"
     ]
    }
   ],
   "source": [
    "name = 'Sudheer'\n",
    "greeting = 'Good morning {}'.format(name)\n",
    "print(greeting)"
   ]
  },
  {
   "cell_type": "code",
   "execution_count": 38,
   "id": "86e36e70",
   "metadata": {},
   "outputs": [
    {
     "name": "stdout",
     "output_type": "stream",
     "text": [
      "Good morning Sudheer\n"
     ]
    }
   ],
   "source": [
    "# other way to format - f strings\n",
    "greeting2 = f'Good morning {name}'\n",
    "print(greeting2)"
   ]
  },
  {
   "cell_type": "code",
   "execution_count": 40,
   "id": "ff25da3d",
   "metadata": {},
   "outputs": [
    {
     "name": "stdout",
     "output_type": "stream",
     "text": [
      "['__add__', '__class__', '__contains__', '__delattr__', '__dir__', '__doc__', '__eq__', '__format__', '__ge__', '__getattribute__', '__getitem__', '__getnewargs__', '__gt__', '__hash__', '__init__', '__init_subclass__', '__iter__', '__le__', '__len__', '__lt__', '__mod__', '__mul__', '__ne__', '__new__', '__reduce__', '__reduce_ex__', '__repr__', '__rmod__', '__rmul__', '__setattr__', '__sizeof__', '__str__', '__subclasshook__', 'capitalize', 'casefold', 'center', 'count', 'encode', 'endswith', 'expandtabs', 'find', 'format', 'format_map', 'index', 'isalnum', 'isalpha', 'isascii', 'isdecimal', 'isdigit', 'isidentifier', 'islower', 'isnumeric', 'isprintable', 'isspace', 'istitle', 'isupper', 'join', 'ljust', 'lower', 'lstrip', 'maketrans', 'partition', 'replace', 'rfind', 'rindex', 'rjust', 'rpartition', 'rsplit', 'rstrip', 'split', 'splitlines', 'startswith', 'strip', 'swapcase', 'title', 'translate', 'upper', 'zfill']\n"
     ]
    }
   ],
   "source": [
    "print(dir(name))"
   ]
  },
  {
   "cell_type": "markdown",
   "id": "638abb8f",
   "metadata": {},
   "source": [
    "# Regular Expressions\n",
    "- A RegEx, or Regular Expression, is a sequence of characters that forms a search pattern.\n",
    "- RegEx can be used to check if a string contains the specified search pattern\n",
    "- In python we have inbuilt re module to do the same"
   ]
  },
  {
   "cell_type": "code",
   "execution_count": 41,
   "id": "c95658d8",
   "metadata": {},
   "outputs": [],
   "source": [
    "# First ever importing a package - package can be considered as a set of utilties which can be reused - will discuss more in that session\n",
    "import re"
   ]
  },
  {
   "cell_type": "markdown",
   "id": "74068f74",
   "metadata": {},
   "source": [
    "## Functions in re module\n",
    "- findall()\n",
    "- search()\n",
    "- split()\n",
    "- sub()"
   ]
  },
  {
   "cell_type": "code",
   "execution_count": 50,
   "id": "63cc46f3",
   "metadata": {},
   "outputs": [
    {
     "data": {
      "text/plain": [
       "<re.Match object; span=(5, 9), match='    '>"
      ]
     },
     "execution_count": 50,
     "metadata": {},
     "output_type": "execute_result"
    }
   ],
   "source": [
    "# first ever regex\n",
    "variable = 'There    is gain in pain'\n",
    "re.search('\\\\s+',variable)"
   ]
  },
  {
   "cell_type": "code",
   "execution_count": 64,
   "id": "eb497a76",
   "metadata": {},
   "outputs": [
    {
     "name": "stdout",
     "output_type": "stream",
     "text": [
      "['h', 'e', 'r', 'e', 'i', 's', 'g', 'a', 'i', 'n', 'i', 'n', 'p', 'a', 'i', 'n']\n"
     ]
    }
   ],
   "source": [
    "print(re.findall('[a-z]',variable))"
   ]
  },
  {
   "cell_type": "code",
   "execution_count": 60,
   "id": "7812f029",
   "metadata": {},
   "outputs": [
    {
     "data": {
      "text/plain": [
       "['There', 'is gain in pain']"
      ]
     },
     "execution_count": 60,
     "metadata": {},
     "output_type": "execute_result"
    }
   ],
   "source": [
    "re.split('\\\\s{4}', variable)"
   ]
  },
  {
   "cell_type": "code",
   "execution_count": 62,
   "id": "87ac3532",
   "metadata": {},
   "outputs": [
    {
     "data": {
      "text/plain": [
       "'There is gain in pain'"
      ]
     },
     "execution_count": 62,
     "metadata": {},
     "output_type": "execute_result"
    }
   ],
   "source": [
    "re.sub('\\\\s+', ' ', variable)"
   ]
  },
  {
   "cell_type": "markdown",
   "id": "7b4bf040",
   "metadata": {},
   "source": [
    "## Regex -  Learn more about\n",
    "- Sequences\n",
    "- meta characters\n",
    "- sets"
   ]
  },
  {
   "cell_type": "markdown",
   "id": "62e27cb0",
   "metadata": {},
   "source": [
    "# Assignments\n",
    "- Check if a string is palindrome or not\n",
    "- Find all the numbers in a given string\n",
    "- Reverse the string - using slicing\n",
    "- Split a string on vowels\n",
    "- Replace comma with pipe in a string"
   ]
  },
  {
   "cell_type": "code",
   "execution_count": null,
   "id": "26f97b3d",
   "metadata": {},
   "outputs": [],
   "source": []
  }
 ],
 "metadata": {
  "kernelspec": {
   "display_name": "Python 3",
   "language": "python",
   "name": "python3"
  },
  "language_info": {
   "codemirror_mode": {
    "name": "ipython",
    "version": 3
   },
   "file_extension": ".py",
   "mimetype": "text/x-python",
   "name": "python",
   "nbconvert_exporter": "python",
   "pygments_lexer": "ipython3",
   "version": "3.8.8"
  }
 },
 "nbformat": 4,
 "nbformat_minor": 5
}
